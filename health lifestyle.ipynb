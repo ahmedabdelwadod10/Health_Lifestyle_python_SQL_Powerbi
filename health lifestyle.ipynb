{
 "cells": [
  {
   "cell_type": "code",
   "execution_count": 1,
   "id": "246eeab4",
   "metadata": {},
   "outputs": [
    {
     "ename": "NameError",
     "evalue": "name 'health' is not defined",
     "output_type": "error",
     "traceback": [
      "\u001b[1;31m---------------------------------------------------------------------------\u001b[0m",
      "\u001b[1;31mNameError\u001b[0m                                 Traceback (most recent call last)",
      "Cell \u001b[1;32mIn[1], line 1\u001b[0m\n\u001b[1;32m----> 1\u001b[0m health[\u001b[38;5;124m'\u001b[39m\u001b[38;5;124mStress Level\u001b[39m\u001b[38;5;124m'\u001b[39m]\u001b[38;5;241m.\u001b[39mmean()\n\u001b[0;32m      2\u001b[0m Q1\u001b[38;5;241m=\u001b[39mpd\u001b[38;5;241m.\u001b[39mDataFrame({\u001b[38;5;124m\"\u001b[39m\u001b[38;5;124mStress_level\u001b[39m\u001b[38;5;124m\"\u001b[39m: [\u001b[38;5;241m5.385026737967914\u001b[39m]})\n\u001b[0;32m      3\u001b[0m Q1\u001b[38;5;241m.\u001b[39mto_csv(\u001b[38;5;124m\"\u001b[39m\u001b[38;5;124mavg_Stress_level\u001b[39m\u001b[38;5;124m\"\u001b[39m)\n",
      "\u001b[1;31mNameError\u001b[0m: name 'health' is not defined"
     ]
    }
   ],
   "source": [
    "health['Stress Level'].mean()\n",
    "Q1=pd.DataFrame({\"Stress_level\": [5.385026737967914]})\n",
    "Q1.to_csv(\"avg_Stress_level\")\n",
    "\n"
   ]
  },
  {
   "cell_type": "code",
   "execution_count": 31,
   "id": "a3a489c4",
   "metadata": {},
   "outputs": [
    {
     "data": {
      "text/plain": [
       "10000"
      ]
     },
     "execution_count": 31,
     "metadata": {},
     "output_type": "execute_result"
    }
   ],
   "source": [
    "health['Daily Steps'].max()\n",
    "Q2=pd.DataFrame({\"max_Daily_steps\": [10000]})\n",
    "Q2.to_csv(\"max_Daily_Steps\")\n"
   ]
  },
  {
   "cell_type": "code",
   "execution_count": 1,
   "id": "eadd8cb9",
   "metadata": {},
   "outputs": [],
   "source": [
    "import pandas as pd\n",
    "import pypyodbc as podbc"
   ]
  },
  {
   "cell_type": "code",
   "execution_count": 2,
   "id": "88985a88",
   "metadata": {},
   "outputs": [],
   "source": [
    "\n",
    "\n",
    "conn2 = podbc.connect(\"Driver={ODBC Driver 17 for SQL Server};\"\n",
    "                     \"Server=DESKTOP-E7HD1L7\\DODA2000;\"\n",
    "                     \"Database=master;\"\n",
    "                     \"Trusted_Connection=yes;\")"
   ]
  },
  {
   "cell_type": "code",
   "execution_count": 1,
   "id": "9ccecfbf",
   "metadata": {},
   "outputs": [
    {
     "data": {
      "text/plain": [
       "['SQL Server',\n",
       " 'SQL Server Native Client 11.0',\n",
       " 'SQL Server Native Client RDA 11.0',\n",
       " 'ODBC Driver 17 for SQL Server']"
      ]
     },
     "execution_count": 1,
     "metadata": {},
     "output_type": "execute_result"
    }
   ],
   "source": []
  },
  {
   "cell_type": "code",
   "execution_count": 10,
   "id": "b42d8ecf",
   "metadata": {},
   "outputs": [
    {
     "name": "stdout",
     "output_type": "stream",
     "text": [
      "Requirement already satisfied: pypyodbc in d:\\my_project\\anaconda\\lib\\site-packages (1.3.6)\n",
      "Requirement already satisfied: setuptools in d:\\my_project\\anaconda\\lib\\site-packages (from pypyodbc) (68.0.0)\n",
      "Note: you may need to restart the kernel to use updated packages.\n"
     ]
    }
   ],
   "source": [
    "pip install pypyodbc"
   ]
  },
  {
   "cell_type": "code",
   "execution_count": 3,
   "id": "37f5830f",
   "metadata": {},
   "outputs": [
    {
     "name": "stderr",
     "output_type": "stream",
     "text": [
      "C:\\Users\\VIP\\AppData\\Local\\Temp\\ipykernel_22140\\1697168128.py:1: UserWarning: pandas only supports SQLAlchemy connectable (engine/connection) or database string URI or sqlite3 DBAPI2 connection. Other DBAPI2 objects are not tested. Please consider using SQLAlchemy.\n",
      "  health = pd.read_sql_query('''SELECT * FROM [dbo].[Sleep_health_and_lifestyle_dataset]''', conn2)\n"
     ]
    }
   ],
   "source": [
    "health = pd.read_sql_query('''SELECT * FROM [dbo].[Sleep_health_and_lifestyle_dataset]''', conn2)\n",
    " \n",
    "#conn.close()\n",
    "\n",
    "# Viz\n",
    "health.head()\n",
    "\n",
    "\n",
    "health = health.drop(0)\n",
    "\n",
    "health.head()\n",
    "\n",
    "occupation_bmi_category_health = health[['occupation', 'bmi category']]\n",
    "occupation_bmi_category_health.to_csv('occupation_bmi_category_health.csv', index=False)\n",
    "\n",
    "gender_daily_steps_health = health[['gender', 'daily steps']]\n",
    "gender_daily_steps_health.to_csv('gender_daily_steps_health.csv', index=False)\n",
    "\n",
    "health['daily steps'].max()\n",
    "Q2=pd.DataFrame({\"max_Daily_steps\": [10000]})\n",
    "Q2.to_csv(\"max_Daily_Steps\")\n",
    "\n",
    "gender_sleep_disorder_health = health[['gender', 'sleep disorder']]\n",
    "gender_sleep_disorder_health.to_csv('gender_sleep_disorder_health.csv', index=False)\n",
    "\n",
    "\n",
    "\n",
    "\n",
    "\n",
    "\n"
   ]
  },
  {
   "cell_type": "code",
   "execution_count": 8,
   "id": "6b577966",
   "metadata": {},
   "outputs": [
    {
     "ename": "NameError",
     "evalue": "name 'health' is not defined",
     "output_type": "error",
     "traceback": [
      "\u001b[1;31m---------------------------------------------------------------------------\u001b[0m",
      "\u001b[1;31mNameError\u001b[0m                                 Traceback (most recent call last)",
      "Cell \u001b[1;32mIn[8], line 1\u001b[0m\n\u001b[1;32m----> 1\u001b[0m health[\u001b[38;5;124m'\u001b[39m\u001b[38;5;124mStress Level\u001b[39m\u001b[38;5;124m'\u001b[39m]\u001b[38;5;241m.\u001b[39mmean()\n\u001b[0;32m      2\u001b[0m Q1\u001b[38;5;241m=\u001b[39mpd\u001b[38;5;241m.\u001b[39mDataFrame({\u001b[38;5;124m\"\u001b[39m\u001b[38;5;124mStress_level\u001b[39m\u001b[38;5;124m\"\u001b[39m: [\u001b[38;5;241m5.385026737967914\u001b[39m]})\n\u001b[0;32m      3\u001b[0m Q1\u001b[38;5;241m.\u001b[39mto_csv(\u001b[38;5;124m\"\u001b[39m\u001b[38;5;124mavg_Stress_level\u001b[39m\u001b[38;5;124m\"\u001b[39m)\n",
      "\u001b[1;31mNameError\u001b[0m: name 'health' is not defined"
     ]
    }
   ],
   "source": [
    "health['Stress Level'].mean()\n",
    "Q1=pd.DataFrame({\"Stress_level\": [5.385026737967914]})\n",
    "Q1.to_csv(\"avg_Stress_level\")\n"
   ]
  },
  {
   "cell_type": "code",
   "execution_count": null,
   "id": "4f367808",
   "metadata": {},
   "outputs": [],
   "source": [
    "1 - drop 1st row index 0 \n",
    "\n",
    "2- gender vs occupation \n",
    "\n",
    "3- gender vs sleep duration \n",
    "\n",
    "4- gender vs bmi category \n",
    "\n",
    "5- gender vs stress level \n",
    "\n"
   ]
  },
  {
   "cell_type": "code",
   "execution_count": null,
   "id": "5fed6d7e",
   "metadata": {},
   "outputs": [],
   "source": [
    "Q3=gender_sleep_duration_health = health[['gender', 'sleep duratio']]\n",
    "gender_sleep_duration_health.to_csv('gender_sleep_duration_health.csv', index=False"
   ]
  },
  {
   "cell_type": "code",
   "execution_count": 10,
   "id": "e7eb25a7",
   "metadata": {},
   "outputs": [],
   "source": [
    "Q4=occupation_bmi_category_health = health[['occupation', 'bmi category']]\n",
    "occupation_bmi_category_health.to_csv('occupation_bmi_category_health.csv', index=False)\n"
   ]
  },
  {
   "cell_type": "code",
   "execution_count": null,
   "id": "8e663422",
   "metadata": {},
   "outputs": [],
   "source": [
    "Q5:gender_sleep_disorder_health = health[['gender', 'sleep disorder']]\n",
    "gender_sleep_disorder_health.to_csv('gender_sleep_disorder_health.csv', index=False)"
   ]
  },
  {
   "cell_type": "code",
   "execution_count": 4,
   "id": "7c8e05a0",
   "metadata": {},
   "outputs": [],
   "source": [
    "Q6=gender_occupation_health = health[['occupation', 'gender']]\n",
    "gender_occupation_health.to_csv('gender_occupation_health.csv', index=False)\n"
   ]
  },
  {
   "cell_type": "code",
   "execution_count": null,
   "id": "38f09085",
   "metadata": {},
   "outputs": [],
   "source": []
  }
 ],
 "metadata": {
  "kernelspec": {
   "display_name": "Python 3 (ipykernel)",
   "language": "python",
   "name": "python3"
  },
  "language_info": {
   "codemirror_mode": {
    "name": "ipython",
    "version": 3
   },
   "file_extension": ".py",
   "mimetype": "text/x-python",
   "name": "python",
   "nbconvert_exporter": "python",
   "pygments_lexer": "ipython3",
   "version": "3.11.4"
  }
 },
 "nbformat": 4,
 "nbformat_minor": 5
}
